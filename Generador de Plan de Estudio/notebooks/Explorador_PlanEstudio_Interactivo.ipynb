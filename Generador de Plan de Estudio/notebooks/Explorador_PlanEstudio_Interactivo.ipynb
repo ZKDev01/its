{
 "cells": [
  {
   "cell_type": "markdown",
   "metadata": {},
   "source": [
    "# 🧪 Explorador Interactivo de Planes de Estudio\n",
    "\n",
    "Este notebook te permite modificar parámetros como el objetivo del estudiante, los valores de `n` y `m`, y visualizar el plan generado con su fitness.\n",
    "\n",
    "👇 Sigue las instrucciones en cada celda."
   ]
  },
  {
   "cell_type": "code",
   "execution_count": 10,
   "metadata": {},
   "outputs": [],
   "source": [
    "# 📦 1. Cargar módulos y configurar entorno\n",
    "import sys, os, json, random\n",
    "import matplotlib.pyplot as plt\n",
    "sys.path.append(os.path.abspath(\"..\"))\n",
    "\n",
    "from src.models import StudentProfile, KnowledgeGraph\n",
    "from src.algorithm import generate_random_plan, crossover, mutate\n",
    "from src.evaluation import calculate_fitness, is_valid_plan"
   ]
  },
  {
   "cell_type": "code",
   "execution_count": 11,
   "metadata": {},
   "outputs": [
    {
     "name": "stdout",
     "output_type": "stream",
     "text": [
      "Objetivos disponibles:\n",
      "- backend_dev\n",
      "- frontend_dev\n",
      "- data_scientist\n",
      "- seguridad\n"
     ]
    }
   ],
   "source": [
    "# 🧠 2. Cargar perfil del estudiante y objetivos disponibles\n",
    "with open('../data/student_profile.json') as f:\n",
    "    student_data = json.load(f)\n",
    "\n",
    "with open('../data/objectives.json') as f:\n",
    "    objectives = json.load(f)\n",
    "\n",
    "print(\"Objetivos disponibles:\")\n",
    "for key in objectives:\n",
    "    print(\"-\", key)"
   ]
  },
  {
   "cell_type": "code",
   "execution_count": 12,
   "metadata": {},
   "outputs": [
    {
     "name": "stdout",
     "output_type": "stream",
     "text": [
      "data_scientist\n",
      "data_scientist\n"
     ]
    }
   ],
   "source": [
    "# 🎯 3. Cambiar objetivo del estudiante aquí 👇\n",
    "\n",
    " # Cambia aquí: data_scientist, backend_dev, frontend_dev, seguridad\n",
    "\n",
    "student = StudentProfile(**student_data)\n",
    "print(student_data['goal'])\n",
    "student_data['goal'] = \"data_scientist\" \n",
    "print(student_data['goal'])"
   ]
  },
  {
   "cell_type": "code",
   "execution_count": 13,
   "metadata": {},
   "outputs": [],
   "source": [
    "# 📚 4. Cargar grafo de conocimiento\n",
    "with open('../data/knowledge_graph_expandido.json') as f:\n",
    "    graph_data = json.load(f)\n",
    "graph = KnowledgeGraph(graph_data)\n"
   ]
  },
  {
   "cell_type": "code",
   "execution_count": 14,
   "metadata": {},
   "outputs": [],
   "source": [
    "# ⚙️ 5. Ajustar parámetros del plan (n = temas, m = subtemas por tema)\n",
    "n = 4\n",
    "m = 3"
   ]
  },
  {
   "cell_type": "code",
   "execution_count": 15,
   "metadata": {},
   "outputs": [
    {
     "name": "stdout",
     "output_type": "stream",
     "text": [
      "\n",
      "📘 Mejor plan encontrado:\n",
      "- Buenas Prácticas: ['Documentación de APIs', 'Testing Frontend', 'Testing Backend']\n",
      "- Algoritmos: ['Grafos', 'Algoritmos de Búsqueda', 'Recursión']\n",
      "- Matemáticas Discretas: ['Estadística', 'Probabilidad', 'Teoría de Grafos']\n",
      "- Seguridad: ['Cifrado de Contraseñas', 'Auditoría y Logs', 'Autenticación y Autorización']\n",
      "- Inteligencia Artificial: ['Agentes Inteligentes', 'Redes Neuronales', 'Machine Learning']\n",
      "\n",
      "📚 Subtemas totales: ['Documentación de APIs', 'Testing Frontend', 'Testing Backend', 'Grafos', 'Algoritmos de Búsqueda', 'Recursión', 'Estadística', 'Probabilidad', 'Teoría de Grafos', 'Cifrado de Contraseñas', 'Auditoría y Logs', 'Autenticación y Autorización', 'Agentes Inteligentes', 'Redes Neuronales', 'Machine Learning']\n",
      "🎯 Fitness final: 2.6590000000000003\n"
     ]
    }
   ],
   "source": [
    "# 🤖 6. Ejecutar algoritmo genético y mostrar plan\n",
    "from src.models import StudyPlan\n",
    "\n",
    "def genetic_optimize_trace(student, graph, n, m, pop_size=30, generations=30):\n",
    "    fitness_history = []\n",
    "    population = [generate_random_plan(graph, student, n, m) for _ in range(pop_size)]\n",
    "    best_plan = None\n",
    "    best_fitness = float('-inf')\n",
    "    for gen in range(generations):\n",
    "        scored = [(p, calculate_fitness(p, student, graph)) for p in population if is_valid_plan(p, student, graph, n, m)]\n",
    "        scored.sort(key=lambda x: x[1], reverse=True)\n",
    "        fitness_history.append([x[1] for x in scored])\n",
    "        if not scored:\n",
    "            break\n",
    "        if scored[0][1] > best_fitness:\n",
    "            best_fitness = scored[0][1]\n",
    "            best_plan = scored[0][0]\n",
    "        parents = [x[0] for x in scored]\n",
    "        if len(parents) < 2:\n",
    "            parents *= 2\n",
    "        children = []\n",
    "        while len(children) < pop_size:\n",
    "            i1 = random.randint(0, len(parents) - 1)\n",
    "            i2 = random.randint(0, len(parents) - 1)\n",
    "            child = crossover(parents[i1], parents[i2])\n",
    "            if random.random() < 0.1:\n",
    "                child = mutate(child, graph, student, m)\n",
    "            children.append(child)\n",
    "        population = children\n",
    "    return best_plan, best_fitness, fitness_history\n",
    "\n",
    "# Ejecutar\n",
    "plan, score, history = genetic_optimize_trace(student, graph, n=n, m=m)\n",
    "\n",
    "if plan is None:\n",
    "    print(\"⚠ No se encontró ningún plan válido.\")\n",
    "else:\n",
    "    print(\"\\n📘 Mejor plan encontrado:\")\n",
    "    for tema in plan.topics():\n",
    "        print(f\"- {tema}: {plan.subtopics(tema)}\")\n",
    "    print(\"\\n📚 Subtemas totales:\", plan.all_subtopics())\n",
    "    print(\"🎯 Fitness final:\", score)\n"
   ]
  },
  {
   "cell_type": "code",
   "execution_count": null,
   "metadata": {},
   "outputs": [],
   "source": [
    "from models import StudyPlan\n",
    "\n",
    "plan = StudyPlan({})  # plan vacío inicial\n",
    "\n",
    "for topic in student.goal_required_topics():\n",
    "    subs = graph.get_subtopics(topic)\n",
    "    posibles = []\n",
    "    for s in subs:\n",
    "        if student.knowledge.get(s, 0) >= 0.4:\n",
    "            continue\n",
    "        if all(\n",
    "            student.knowledge.get(p, 0) >= 0.6 or p in plan.all_subtopics()\n",
    "            for p in graph.prerequisites(s)\n",
    "        ):\n",
    "            posibles.append(s)\n",
    "    print(f\"{topic}: {len(posibles)} subtemas válidos → {posibles}\")\n"
   ]
  },
  {
   "cell_type": "code",
   "execution_count": 15,
   "metadata": {},
   "outputs": [
    {
     "name": "stdout",
     "output_type": "stream",
     "text": [
      "Matemáticas Discretas: 0 subtemas válidos\n",
      "Algoritmos: 0 subtemas válidos\n",
      "Inteligencia Artificial: 0 subtemas válidos\n"
     ]
    }
   ],
   "source": [
    "for topic in student.goal_required_topics():\n",
    "    all_subs = graph.get_subtopics(topic)\n",
    "    valid_subs = [s for s in all_subs if student.knowledge.get(topic, 0) < 0.4]\n",
    "    print(f\"{topic}: {len(valid_subs)} subtemas válidos\")\n"
   ]
  },
  {
   "cell_type": "code",
   "execution_count": 16,
   "metadata": {},
   "outputs": [
    {
     "data": {
      "image/png": "[encoded data removed]",
      "text/plain": [
       "<Figure size 640x480 with 1 Axes>"
      ]
     },
     "metadata": {},
     "output_type": "display_data"
    }
   ],
   "source": [
    "# 📈 7. Visualizar evolución del fitness\n",
    "if history:\n",
    "    max_per_gen = [max(g) if g else 0 for g in history]\n",
    "    plt.plot(max_per_gen)\n",
    "    plt.title(\"Evolución del Fitness por Generación\")\n",
    "    plt.xlabel(\"Generación\")\n",
    "    plt.ylabel(\"Fitness máximo\")\n",
    "    plt.grid(True)\n",
    "    plt.show()"
   ]
  }
 ],
 "metadata": {
  "kernelspec": {
   "display_name": ".venv",
   "language": "python",
   "name": "python3"
  },
  "language_info": {
   "codemirror_mode": {
    "name": "ipython",
    "version": 3
   },
   "file_extension": ".py",
   "mimetype": "text/x-python",
   "name": "python",
   "nbconvert_exporter": "python",
   "pygments_lexer": "ipython3",
   "version": "3.12.7"
  }
 },
 "nbformat": 4,
 "nbformat_minor": 2
}
