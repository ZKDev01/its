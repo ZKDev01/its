{
 "cells": [
  {
   "cell_type": "code",
   "execution_count": 2,
   "id": "bd476a9e",
   "metadata": {},
   "outputs": [],
   "source": [
    "from typing import List,Dict \n",
    "from langchain_ollama import (\n",
    "  OllamaLLM,\n",
    "  OllamaEmbeddings\n",
    ")\n",
    "from langchain_core.messages import (\n",
    "  BaseMessage,\n",
    "  AIMessage,\n",
    "  HumanMessage  \n",
    ")\n",
    "from langchain_core.prompts import (\n",
    "  ChatPromptTemplate,\n",
    "  MessagesPlaceholder  \n",
    ")\n",
    "\n",
    "GEMMA = \"gemma3:1b\"             # ollama gemma3:1b\n",
    "DEEPSEEK = \"deepseek-r1:1.5b\"   # ollama deepseek-r1:1.5b\n"
   ]
  },
  {
   "cell_type": "code",
   "execution_count": null,
   "id": "2ef0c2a9",
   "metadata": {},
   "outputs": [],
   "source": [
    "llm = OllamaLLM(GEMMA, temperature=0.8)\n",
    "llm.invoke(\"\"\" \n",
    "¿Cuánto es 2 + \"2\"?\n",
    "\"\"\")"
   ]
  },
  {
   "cell_type": "code",
   "execution_count": null,
   "id": "ad5b7479",
   "metadata": {},
   "outputs": [],
   "source": [
    "class Chatbot:\n",
    "  def __init__(self,base_prompt:str, model_name:str=GEMMA,temperature:float=0.8):\n",
    "    # optimizar base_prompt \n",
    "    self.base_prompt:str = base_prompt\n",
    "\n",
    "    self.chat_prompt = ChatPromptTemplate.from_messages(\n",
    "      [\n",
    "        ('system', f\"{self.base_prompt}\"),\n",
    "        MessagesPlaceholder(variable_name='memory'),\n",
    "        ('human', '{input}')\n",
    "      ]\n",
    "    )\n",
    "    \n",
    "    # generate llm-chain\n",
    "    self.llm:OllamaLLM = OllamaLLM(\n",
    "      model=model_name,temperature=temperature\n",
    "    )\n",
    "    self.memory:List = []\n",
    "    self.__chatbot = self.chat_prompt | self.llm\n",
    "  \n",
    "  def __call__(self, query:str): # *args, **kwds\n",
    "    response = self.__chatbot.invoke( \n",
    "      { \n",
    "        'input': HumanMessage(query), \n",
    "        'memory': self.memory \n",
    "      } \n",
    "    )\n",
    "    self.memory.append(HumanMessage(content=query))\n",
    "    self.memory.append(AIMessage(content=response))\n",
    "    \n",
    "    return response\n"
   ]
  },
  {
   "cell_type": "code",
   "execution_count": null,
   "id": "9d955b2e",
   "metadata": {},
   "outputs": [],
   "source": [
    "queries = [\n",
    "  \"¿Qué es un número complejo?\",\n",
    "  \"¿Qué tipo de operaciones tiene?\",\n",
    "  \"¿Dime un proyecto que utilice esto?\"\n",
    "]\n",
    "\n",
    "prompt = \"\"\" \n",
    "Eres un asistente de inteligencia artificial capaz de dar respuestas \n",
    "razonando antes con la conversion tenida con el usuario\n",
    "Lenguaje de respuesta: Español\n",
    "\"\"\"\n",
    "\n",
    "chatbot = Chatbot(prompt)\n",
    "\n",
    "r = []\n",
    "for query in queries:\n",
    "  rt = chatbot(query)\n",
    "  r.append(rt)\n",
    "  print(rt)\n",
    "  print(\"\\n\\n===============\\n\\n\")  "
   ]
  }
 ],
 "metadata": {
  "kernelspec": {
   "display_name": "env",
   "language": "python",
   "name": "python3"
  },
  "language_info": {
   "codemirror_mode": {
    "name": "ipython",
    "version": 3
   },
   "file_extension": ".py",
   "mimetype": "text/x-python",
   "name": "python",
   "nbconvert_exporter": "python",
   "pygments_lexer": "ipython3",
   "version": "3.12.2"
  }
 },
 "nbformat": 4,
 "nbformat_minor": 5
}
