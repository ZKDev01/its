{
 "cells": [
  {
   "cell_type": "code",
   "execution_count": null,
   "id": "4321621d",
   "metadata": {},
   "outputs": [],
   "source": []
  },
  {
   "cell_type": "code",
   "execution_count": null,
   "id": "0dfed791",
   "metadata": {},
   "outputs": [],
   "source": [
    "from typing import List,Dict \n",
    "from langchain_ollama import OllamaLLM,OllamaEmbeddings\n",
    "from langchain_core.messages import BaseMessage,AIMessage,HumanMessage\n",
    "from langchain_core.prompts import ChatPromptTemplate,MessagesPlaceholder"
   ]
  },
  {
   "cell_type": "markdown",
   "id": "f545a163",
   "metadata": {},
   "source": [
    "install `gemma3:1b`, `deepseek-r1:1.5b`"
   ]
  },
  {
   "cell_type": "code",
   "execution_count": null,
   "id": "a8cd3bc0",
   "metadata": {},
   "outputs": [],
   "source": [
    "#question = \"¿Cuánto es 2 + 3 * 2?\"\n",
    "question = \"2 + 3 * 2\""
   ]
  },
  {
   "cell_type": "code",
   "execution_count": null,
   "id": "afefb957",
   "metadata": {},
   "outputs": [],
   "source": [
    "model = OllamaLLM(model=\"gemma3:1b\")\n",
    "print(model.invoke(question))"
   ]
  },
  {
   "cell_type": "markdown",
   "id": "b0cda42f",
   "metadata": {},
   "source": []
  },
  {
   "cell_type": "markdown",
   "id": "1504509d",
   "metadata": {},
   "source": [
    "## Build a Chatbot "
   ]
  },
  {
   "cell_type": "code",
   "execution_count": null,
   "id": "397b6918",
   "metadata": {},
   "outputs": [],
   "source": [
    "base_prompt = \"\"\"\n",
    "Responde a cada pregunta del usuario utilizando la conversación que has mantenido\n",
    "\"\"\""
   ]
  },
  {
   "cell_type": "code",
   "execution_count": null,
   "id": "56a159a2",
   "metadata": {},
   "outputs": [],
   "source": [
    "memory:List = []\n",
    "prompt = ChatPromptTemplate.from_messages(\n",
    "  [\n",
    "    ('system', f\"{base_prompt}\"),\n",
    "    MessagesPlaceholder(variable_name='memory'),\n",
    "    ('human', '{input}')\n",
    "  ]\n",
    ")\n",
    "chatbot = prompt | model "
   ]
  },
  {
   "cell_type": "markdown",
   "id": "cae8276f",
   "metadata": {},
   "source": [
    "#### Query in Memory"
   ]
  },
  {
   "cell_type": "code",
   "execution_count": null,
   "id": "7a7c39e2",
   "metadata": {},
   "outputs": [],
   "source": [
    "queries = [\n",
    "  \"¿Qué es un número complejo?\",\n",
    "  \"¿Qué tipo de operaciones tiene?\",\n",
    "  \"¿Dime un proyecto que utilice esto?\"\n",
    "]"
   ]
  },
  {
   "cell_type": "code",
   "execution_count": null,
   "id": "75306540",
   "metadata": {},
   "outputs": [],
   "source": [
    "def call(query:str) -> str:\n",
    "  response = chatbot.invoke(\n",
    "    {\n",
    "      'input': query,\n",
    "      'memory': memory\n",
    "    }\n",
    "  )\n",
    "\n",
    "  memory.append(  \n",
    "    [\n",
    "      HumanMessage(content=query),\n",
    "      AIMessage(content=response)\n",
    "    ]\n",
    "  )\n",
    "  \n",
    "  return response"
   ]
  },
  {
   "cell_type": "markdown",
   "id": "81d74d63",
   "metadata": {},
   "source": [
    "#### Query + Agent"
   ]
  },
  {
   "cell_type": "markdown",
   "id": "064df451",
   "metadata": {},
   "source": [
    "## Metrics\n"
   ]
  },
  {
   "cell_type": "markdown",
   "id": "8815e825",
   "metadata": {},
   "source": [
    "### Accuracy (percentage of characters that match exactly)\n"
   ]
  },
  {
   "cell_type": "code",
   "execution_count": null,
   "id": "d374554b",
   "metadata": {},
   "outputs": [],
   "source": []
  },
  {
   "cell_type": "markdown",
   "id": "58ce813a",
   "metadata": {},
   "source": [
    "\n",
    "### Precision (ratio of correctly predicted positive cases)\n"
   ]
  },
  {
   "cell_type": "code",
   "execution_count": null,
   "id": "faa98ba0",
   "metadata": {},
   "outputs": [],
   "source": []
  },
  {
   "cell_type": "markdown",
   "id": "adae76b4",
   "metadata": {},
   "source": [
    "\n",
    "### Recall (ratio of correctly identified relevant characters)\n"
   ]
  },
  {
   "cell_type": "code",
   "execution_count": null,
   "id": "b5088b92",
   "metadata": {},
   "outputs": [],
   "source": []
  },
  {
   "cell_type": "markdown",
   "id": "6a27b0c9",
   "metadata": {},
   "source": [
    "\n",
    "### F1 score (harmonic mean of precision and recall)"
   ]
  },
  {
   "cell_type": "code",
   "execution_count": null,
   "id": "1e6803b0",
   "metadata": {},
   "outputs": [],
   "source": []
  }
 ],
 "metadata": {
  "kernelspec": {
   "display_name": "env",
   "language": "python",
   "name": "python3"
  },
  "language_info": {
   "codemirror_mode": {
    "name": "ipython",
    "version": 3
   },
   "file_extension": ".py",
   "mimetype": "text/x-python",
   "name": "python",
   "nbconvert_exporter": "python",
   "pygments_lexer": "ipython3",
   "version": "3.12.2"
  }
 },
 "nbformat": 4,
 "nbformat_minor": 5
}
