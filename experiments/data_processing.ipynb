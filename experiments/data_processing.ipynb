{
 "cells": [
  {
   "cell_type": "code",
   "execution_count": null,
   "id": "13f3c54e",
   "metadata": {},
   "outputs": [],
   "source": [
    "import os \n",
    "from langchain_community.document_loaders import PyPDFLoader\n",
    "from langchain_core.documents import Document\n",
    "\n",
    "path_of_documents = \"..\\\\doc\\\\original\"\n",
    "path_to_export_md = \"..\\\\doc\\\\md\"\n",
    "\n",
    "# eliminar desde aqui\n",
    "dir = os.listdir(path_of_documents)\n",
    "for i,d in enumerate(dir):\n",
    "  print(f\"Document {i+1}: {d}\")\n",
    "  dir[i] = path_of_documents + \"\\\\\" + d\n",
    "\n",
    "\n",
    "loader = PyPDFLoader(dir[0], extract_images=False) # if extract_images=True -> pip install rapidocr-onnxruntime\n",
    "pages = []\n",
    "async for page in loader.alazy_load():\n",
    "  pages.append(page)"
   ]
  },
  {
   "cell_type": "code",
   "execution_count": null,
   "id": "3211377d",
   "metadata": {},
   "outputs": [],
   "source": [
    "dir = os.listdir(path_of_documents)\n",
    "for i,d in enumerate(dir):\n",
    "  print(f\"Document {i+1}: {d}\")\n",
    "  dir[i] = path_of_documents + \"\\\\\" + d"
   ]
  },
  {
   "cell_type": "code",
   "execution_count": null,
   "id": "e8888500",
   "metadata": {},
   "outputs": [],
   "source": [
    "loader = PyPDFLoader(dir[0], extract_images=False) # if extract_images=True -> pip install rapidocr-onnxruntime\n",
    "pages = []\n",
    "async for page in loader.alazy_load():\n",
    "  pages.append(page)"
   ]
  },
  {
   "cell_type": "code",
   "execution_count": null,
   "id": "1f6c32b6",
   "metadata": {},
   "outputs": [],
   "source": [
    "for page in pages:\n",
    "  print(page.page_content)"
   ]
  },
  {
   "cell_type": "code",
   "execution_count": null,
   "id": "7fa09486",
   "metadata": {},
   "outputs": [],
   "source": [
    "#from sentence_transformers import CrossEncoder\n",
    "\n",
    "#emb_model = CrossEncoder('cross-encoder/ms-marco-MiniLM-L-6-v2') #  max_length=512"
   ]
  },
  {
   "cell_type": "code",
   "execution_count": null,
   "id": "fe35c4c4",
   "metadata": {},
   "outputs": [],
   "source": []
  },
  {
   "cell_type": "code",
   "execution_count": null,
   "id": "6f317e2f",
   "metadata": {},
   "outputs": [],
   "source": [
    "from langchain_ollama import OllamaEmbeddings\n",
    "\n",
    "\n",
    "embeddings = OllamaEmbeddings(\n",
    "  model = \"mxbai-embed-large\"\n",
    ")"
   ]
  },
  {
   "cell_type": "code",
   "execution_count": null,
   "id": "671d8f9d",
   "metadata": {},
   "outputs": [],
   "source": [
    "# Create a vector store with a sample text\n",
    "from langchain_core.vectorstores import InMemoryVectorStore\n",
    "\n",
    "text = \"LangChain is the framework for building context-aware reasoning applications\"\n",
    "\n",
    "vectorstore = InMemoryVectorStore.from_texts(\n",
    "    [text],\n",
    "    embedding=embeddings,\n",
    ")\n",
    "\n",
    "# Use the vectorstore as a retriever\n",
    "retriever = vectorstore.as_retriever()\n",
    "\n",
    "# Retrieve the most similar text\n",
    "retrieved_documents = retriever.invoke(\"What is LangChain?\")\n",
    "\n",
    "# show the retrieved document's content\n",
    "retrieved_documents[0].page_content"
   ]
  }
 ],
 "metadata": {
  "kernelspec": {
   "display_name": "env",
   "language": "python",
   "name": "python3"
  },
  "language_info": {
   "codemirror_mode": {
    "name": "ipython",
    "version": 3
   },
   "file_extension": ".py",
   "mimetype": "text/x-python",
   "name": "python",
   "nbconvert_exporter": "python",
   "pygments_lexer": "ipython3",
   "version": "3.12.2"
  }
 },
 "nbformat": 4,
 "nbformat_minor": 5
}
